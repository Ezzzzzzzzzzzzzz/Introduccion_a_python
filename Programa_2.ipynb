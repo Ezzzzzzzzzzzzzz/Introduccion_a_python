{
 "cells": [
  {
   "cell_type": "code",
   "execution_count": 1,
   "metadata": {},
   "outputs": [
    {
     "name": "stdout",
     "output_type": "stream",
     "text": [
      "El valor de x es:  5\n",
      "El valor de y es:  26\n",
      "Tu color favorito es  Negro , tienes:  32 años y pesas 74.0 kg\n"
     ]
    }
   ],
   "source": [
    "import numpy as np\n",
    "\n",
    "x = 5\n",
    "y = 1 + x*5\n",
    "z = (\"Hola a todos\")\n",
    "w = input(\"Ingresa tu color favorito: \")\n",
    "edad = int(input(\"Ingresa tu edad: \"))\n",
    "peso = float(input(\"Cuanto pesas?: \"))\n",
    "\n",
    "#Imprime los datos\n",
    "print(\"El valor de x es: \", x)\n",
    "print(\"El valor de y es: \", y)\n",
    "print(\"Tu color favorito es \", w, \", tienes: \", edad, \"años y pesas\", peso, \"kg\")\n"
   ]
  }
 ],
 "metadata": {
  "kernelspec": {
   "display_name": "Python 3.9.12 ('base')",
   "language": "python",
   "name": "python3"
  },
  "language_info": {
   "codemirror_mode": {
    "name": "ipython",
    "version": 3
   },
   "file_extension": ".py",
   "mimetype": "text/x-python",
   "name": "python",
   "nbconvert_exporter": "python",
   "pygments_lexer": "ipython3",
   "version": "3.9.12"
  },
  "orig_nbformat": 4,
  "vscode": {
   "interpreter": {
    "hash": "e05d13a84c48dca7d9f214d33c6771c68a1f185eadf799d15525cd606a1866fc"
   }
  }
 },
 "nbformat": 4,
 "nbformat_minor": 2
}
